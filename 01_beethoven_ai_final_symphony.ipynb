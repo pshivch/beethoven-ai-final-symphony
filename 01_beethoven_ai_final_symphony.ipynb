{
  "cells": [
    {
      "cell_type": "markdown",
      "metadata": {},
      "source": [
        "# Beethoven AI: Final Symphony\n",
        "\n",
        "*Starter notebook \u2014 2025-09-18*\n",
        "\n",
        "**Aligned ideas:** Image Processing (concept), Recommendation Engine, Sorting/Pattern Visualizer, Advanced Algorithms.\n",
        "\n",
        "**Goal:** represent a short theme, extract simple 'motifs' (n-grams), and recommend an orchestration layer."
      ]
    },
    {
      "cell_type": "code",
      "metadata": {},
      "execution_count": null,
      "outputs": [],
      "source": [
        "# Utility: safe imports (numpy/matplotlib optional)\n",
        "try:\n",
        "    import numpy as np\n",
        "except Exception as e:\n",
        "    np = None\n",
        "try:\n",
        "    import matplotlib.pyplot as plt\n",
        "except Exception as e:\n",
        "    plt = None\n",
        "\n",
        "def has_numpy():\n",
        "    return np is not None\n",
        "\n",
        "def has_matplotlib():\n",
        "    return plt is not None\n",
        "\n",
        "print(\"Numpy:\", \"OK\" if has_numpy() else \"Not available\", \"| Matplotlib:\", \"OK\" if has_matplotlib() else \"Not available\")"
      ]
    },
    {
      "cell_type": "code",
      "metadata": {},
      "execution_count": null,
      "outputs": [],
      "source": [
        "# Represent a short melody as (pitch, duration) where pitch is MIDI number, duration is beats\n",
        "theme = [(60,1), (62,1), (64,1), (65,1), (64,1), (62,1), (60,2)]  # C D E F E D C-\n",
        "print(\"Theme (len):\", len(theme))\n",
        "\n",
        "# Extract 3-note motifs (n-grams)\n",
        "n = 3\n",
        "motifs = [tuple(theme[i:i+n]) for i in range(len(theme)-n+1)]\n",
        "print(\"Motifs:\", motifs)\n",
        "\n",
        "# Very simple recommendation: map motif contour to orchestration choice\n",
        "def contour(motif):\n",
        "    # up/down/flat between successive pitches\n",
        "    steps = []\n",
        "    for (p1,_),(p2,_) in zip(motif, motif[1:]):\n",
        "        steps.append(\"\u2191\" if p2>p1 else (\"\u2193\" if p2<p1 else \"\u2192\"))\n",
        "    return \"\".join(steps)\n",
        "\n",
        "orchestration_rules = {\n",
        "    \"\u2191\u2191\": \"Violins I (soaring line)\",\n",
        "    \"\u2193\u2193\": \"Cellos (descending answer)\",\n",
        "    \"\u2191\u2193\": \"French horns (arc phrasing)\",\n",
        "    \"\u2193\u2191\": \"Violas (support lift)\",\n",
        "    \"\u2192\u2191\": \"Clarinets (gentle rise)\",\n",
        "    \"\u2192\u2193\": \"Bassoons (grounding)\",\n",
        "}\n",
        "\n",
        "recommendations = []\n",
        "for m in motifs:\n",
        "    c = contour(m)\n",
        "    choice = orchestration_rules.get(c, \"Flutes (color)\")\n",
        "    recommendations.append((m, c, choice))\n",
        "\n",
        "for m,c,choice in recommendations:\n",
        "    print(f\"Motif {m} | contour {c} \u2192 {choice}\")\n",
        "\n",
        "# Optional visualization if matplotlib present\n",
        "if has_matplotlib():\n",
        "    xs = [0]\n",
        "    ys = [theme[0][0]]\n",
        "    t=0\n",
        "    for p,d in theme[1:]:\n",
        "        t += d\n",
        "        xs.append(t)\n",
        "        ys.append(p)\n",
        "    plt.figure()\n",
        "    plt.plot(xs, ys, marker=\"o\")\n",
        "    plt.title(\"Theme pitch contour\")\n",
        "    plt.xlabel(\"Beat\")\n",
        "    plt.ylabel(\"MIDI pitch\")\n",
        "    plt.show()"
      ]
    }
  ],
  "metadata": {
    "kernelspec": {
      "display_name": "Python 3",
      "language": "python",
      "name": "python3"
    },
    "language_info": {
      "name": "python",
      "version": "3.11.8"
    }
  },
  "nbformat": 4,
  "nbformat_minor": 5
}