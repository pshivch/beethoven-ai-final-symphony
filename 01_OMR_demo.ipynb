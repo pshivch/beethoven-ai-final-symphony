{
 "cells": [
  {
   "cell_type": "markdown",
   "id": "b420b290",
   "metadata": {},
   "source": [
    "# 01 · OMR Demo (Handwritten Score → Tokens → MusicXML)\n",
    "**Goal:** Convert a score image into tokens, then back to MusicXML.\n",
    "\n",
    "👉 If you're on Colab: `!pip install music21 opencv-python numpy`\n",
    "\n",
    "Files expected:\n",
    "- `examples/score_page.png`\n",
    "- `tokenization/musicxml_token_converter.py`\n"
   ]
  },
  {
   "cell_type": "code",
   "execution_count": null,
   "id": "2ffb7e96",
   "metadata": {},
   "outputs": [],
   "source": [
    "# Install deps if needed (Colab)\n",
    "# !pip install music21 opencv-python numpy\n",
    "\n",
    "import os, cv2\n",
    "from pathlib import Path\n",
    "import matplotlib.pyplot as plt\n",
    "\n",
    "img_path = Path('examples/score_page.png')\n",
    "if not img_path.exists():\n",
    "    print('⚠️ Place a score image at examples/score_page.png')\n",
    "else:\n",
    "    img = cv2.imread(str(img_path), cv2.IMREAD_GRAYSCALE)\n",
    "    plt.imshow(img, cmap='gray')\n",
    "    plt.title('Input Score Page')\n",
    "    plt.axis('off')\n",
    "    plt.show()"
   ]
  },
  {
   "cell_type": "code",
   "execution_count": null,
   "id": "5d31a322",
   "metadata": {},
   "outputs": [],
   "source": [
    "# Round-trip MusicXML ↔ Tokens using converter script\n",
    "xml_in = 'examples/input.musicxml'\n",
    "tok_out = 'examples/tokens.json'\n",
    "xml_out = 'examples/out_roundtrip.musicxml'\n",
    "\n",
    "if not os.path.exists('tokenization/musicxml_token_converter.py'):\n",
    "    print('⚠️ Converter script missing.')\n",
    "elif not os.path.exists(xml_in):\n",
    "    print('ℹ️ Place a small MusicXML file at examples/input.musicxml')\n",
    "else:\n",
    "    !python tokenization/musicxml_token_converter.py --to-tokens $xml_in --out $tok_out\n",
    "    !head -n 20 $tok_out\n",
    "    !python tokenization/musicxml_token_converter.py --to-musicxml $tok_out --out $xml_out\n",
    "    print('Round-trip complete →', xml_out)"
   ]
  }
 ],
 "metadata": {},
 "nbformat": 4,
 "nbformat_minor": 5
}
