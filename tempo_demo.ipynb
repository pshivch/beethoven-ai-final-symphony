{
 "cells": [
  {
   "cell_type": "markdown",
   "id": "ccd41ccf",
   "metadata": {},
   "source": [
    "# Beethoven AI: Tempo Curve Demo\n",
    "\n",
    "This notebook creates a simple **tempo curve** (beats per minute over time) to complement the note-frequency demo.\n",
    "It is intentionally lightweight and easy to run anywhere.\n",
    "\n",
    "**What it shows**\n",
    "- A synthetic tempo (BPM) curve across a short segment (e.g., 2 minutes)\n",
    "- Optional PNG export to `charts/tempo_curve.png`\n",
    "- Clean Matplotlib plot (no custom styles or colors)\n"
   ]
  },
  {
   "cell_type": "code",
   "execution_count": null,
   "id": "4d982cdb",
   "metadata": {},
   "outputs": [],
   "source": [
    "import os\n",
    "import numpy as np\n",
    "import matplotlib.pyplot as plt\n",
    "\n",
    "# --- Parameters ---\n",
    "duration_seconds = 120            # 2 minutes\n",
    "fps = 1                            # samples per second\n",
    "save_png = True                    # set False to skip PNG export\n",
    "out_dir = \"charts\"                 # where to save the PNG\n",
    "png_name = \"tempo_curve.png\"       # file name for the chart\n",
    "\n",
    "np.random.seed(42)                 # reproducibility\n"
   ]
  },
  {
   "cell_type": "code",
   "execution_count": null,
   "id": "02d185e8",
   "metadata": {},
   "outputs": [],
   "source": [
    "# --- Generate a synthetic tempo curve ---\n",
    "t = np.arange(0, duration_seconds, 1.0 / fps)     # time axis in seconds\n",
    "\n",
    "# Baseline tempo that gently varies with a slow sine modulation\n",
    "baseline_bpm = 90 + 10 * np.sin(2 * np.pi * t / 30.0)  # bpm swings ~80-100 over ~30s cycles\n",
    "\n",
    "# Add small random fluctuations to feel more \"human\"\n",
    "noise = np.random.normal(loc=0.0, scale=1.2, size=t.shape)\n",
    "bpm = baseline_bpm + noise\n",
    "\n",
    "# Keep tempos within a reasonable musical range\n",
    "bpm = np.clip(bpm, 60, 140)\n",
    "\n",
    "# Convert time axis to minutes for a cleaner x-label\n",
    "minutes = t / 60.0\n",
    "len(minutes), len(bpm)\n"
   ]
  },
  {
   "cell_type": "code",
   "execution_count": null,
   "id": "91adb2d2",
   "metadata": {},
   "outputs": [],
   "source": [
    "# --- Plot the tempo curve ---\n",
    "plt.figure(figsize=(8, 4.5))\n",
    "plt.plot(minutes, bpm, linewidth=2)\n",
    "plt.title(\"Beethoven AI: Tempo Curve (Demo)\")\n",
    "plt.xlabel(\"Minute\")\n",
    "plt.ylabel(\"BPM\")\n",
    "plt.grid(True)\n",
    "\n",
    "# Optional save\n",
    "if save_png:\n",
    "    os.makedirs(out_dir, exist_ok=True)\n",
    "    out_path = os.path.join(out_dir, png_name)\n",
    "    plt.savefig(out_path, dpi=200, bbox_inches=\"tight\")\n",
    "    print(f\"Saved PNG to: {out_path}\")\n",
    "\n",
    "plt.show()\n"
   ]
  }
 ],
 "metadata": {},
 "nbformat": 4,
 "nbformat_minor": 5
}