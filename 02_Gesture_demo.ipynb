{
 "cells": [
  {
   "cell_type": "markdown",
   "id": "c697c857",
   "metadata": {},
   "source": [
    "# 02 · Gesture Demo (Conductor Video → Keypoints → Controls)\n",
    "**Goal:** Extract keypoints from a short conductor video.\n",
    "\n",
    "👉 If you're on Colab: `!pip install mediapipe opencv-python numpy matplotlib`\n",
    "\n",
    "Files expected:\n",
    "- `examples/conductor_short.mp4`\n",
    "- `gesture/pose_extract.py`\n"
   ]
  },
  {
   "cell_type": "code",
   "execution_count": null,
   "id": "97eead2e",
   "metadata": {},
   "outputs": [],
   "source": [
    "# Install deps if needed (Colab)\n",
    "# !pip install mediapipe opencv-python numpy matplotlib\n",
    "\n",
    "import os, numpy as np\n",
    "from pathlib import Path\n",
    "\n",
    "video_path = Path('examples/conductor_short.mp4')\n",
    "out_npz = Path('examples/conductor_take01.npz')\n",
    "\n",
    "if not os.path.exists('gesture/pose_extract.py'):\n",
    "    print('⚠️ pose_extract.py not found.')\n",
    "elif not video_path.exists():\n",
    "    print('ℹ️ Place a short video at examples/conductor_short.mp4')\n",
    "else:\n",
    "    !python gesture/pose_extract.py --video $video_path --out $out_npz --fps 120\n",
    "    print('Saved:', out_npz)\n",
    "\n",
    "# Visualize confidence if output exists\n",
    "if out_npz.exists():\n",
    "    import matplotlib.pyplot as plt\n",
    "    d = np.load(out_npz)\n",
    "    plt.plot(d['conf'][:,0])\n",
    "    plt.title('Joint-0 confidence over time')\n",
    "    plt.show()"
   ]
  }
 ],
 "metadata": {},
 "nbformat": 4,
 "nbformat_minor": 5
}
