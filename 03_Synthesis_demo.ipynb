{
 "cells": [
  {
   "cell_type": "markdown",
   "id": "47ec68fe",
   "metadata": {},
   "source": [
    "\n",
    "# 03 · Synthesis Demo (Tokens + Gestures → MIDI/Audio)\n",
    "\n",
    "**Goal:** Combine symbolic tokens (notes) and gesture dynamics to render a simple MIDI/audio demo.\n",
    "\n",
    "👉 If you're on Colab:  \n",
    "```bash\n",
    "!pip install music21 mido pygame matplotlib numpy\n",
    "```\n"
   ]
  },
  {
   "cell_type": "code",
   "execution_count": null,
   "id": "efc59af4",
   "metadata": {},
   "outputs": [],
   "source": [
    "\n",
    "import numpy as np\n",
    "import matplotlib.pyplot as plt\n",
    "from music21 import stream, note, midi\n",
    "\n",
    "# Example placeholder files (replace with real outputs)\n",
    "tokens_file = 'examples/tokens.json'\n",
    "gestures_file = 'examples/conductor_take01.npz'\n",
    "\n",
    "print(\"Expecting:\", tokens_file, gestures_file)\n"
   ]
  },
  {
   "cell_type": "code",
   "execution_count": null,
   "id": "8d01854e",
   "metadata": {},
   "outputs": [],
   "source": [
    "\n",
    "import os, json\n",
    "\n",
    "if os.path.exists(tokens_file):\n",
    "    with open(tokens_file) as f:\n",
    "        tokens = json.load(f)\n",
    "    print(\"Loaded tokens:\", tokens[:10] if isinstance(tokens, list) else type(tokens))\n",
    "else:\n",
    "    print(\"⚠️ No tokens found, using dummy sequence\")\n",
    "    tokens = [60, 62, 64, 65, 67]  # C major scale\n",
    "\n",
    "if os.path.exists(gestures_file):\n",
    "    g = np.load(gestures_file)\n",
    "    dynamics = g['conf'][:len(tokens)]\n",
    "    print(\"Loaded gesture dynamics:\", dynamics.shape)\n",
    "else:\n",
    "    print(\"⚠️ No gesture file, using flat dynamics\")\n",
    "    dynamics = np.ones(len(tokens)) * 0.8\n"
   ]
  },
  {
   "cell_type": "code",
   "execution_count": null,
   "id": "ed234a8d",
   "metadata": {},
   "outputs": [],
   "source": [
    "\n",
    "# Build a music21 Stream with dynamics as note velocities\n",
    "s = stream.Stream()\n",
    "for pitch, dyn in zip(tokens, dynamics):\n",
    "    n = note.Note(pitch)\n",
    "    n.quarterLength = 1\n",
    "    n.volume.velocity = int(dyn * 127)\n",
    "    s.append(n)\n",
    "\n",
    "# Save to MIDI\n",
    "mf = midi.translate.streamToMidiFile(s)\n",
    "out_midi = \"examples/output_demo.mid\"\n",
    "mf.open(out_midi, 'wb')\n",
    "mf.write()\n",
    "mf.close()\n",
    "print(\"Saved MIDI:\", out_midi)\n"
   ]
  },
  {
   "cell_type": "code",
   "execution_count": null,
   "id": "a48785c4",
   "metadata": {},
   "outputs": [],
   "source": [
    "\n",
    "plt.figure(figsize=(6,2))\n",
    "plt.plot(dynamics, marker='o')\n",
    "plt.title(\"Gesture Dynamics over Notes\")\n",
    "plt.xlabel(\"Note Index\")\n",
    "plt.ylabel(\"Velocity (0-127)\")\n",
    "plt.show()\n"
   ]
  }
 ],
 "metadata": {},
 "nbformat": 4,
 "nbformat_minor": 5
}
