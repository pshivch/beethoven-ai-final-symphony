{
 "cells": [
  {
   "cell_type": "markdown",
   "id": "d013cabe",
   "metadata": {},
   "source": [
    "# 🎶 Beethoven AI: Demo Notebook\n",
    "This demo shows a simple **note frequency distribution** using mock Beethoven data.\n",
    "\n",
    "Recruiters can see immediate proof of coding, data handling, and chart visualization."
   ]
  },
  {
   "cell_type": "code",
   "execution_count": null,
   "id": "e13f71d2",
   "metadata": {},
   "outputs": [],
   "source": [
    "import numpy as np\n",
    "import matplotlib.pyplot as plt\n",
    "\n",
    "# Mock dataset: notes (C, D, E, F, G, A, B)\n",
    "notes = ['C', 'D', 'E', 'F', 'G', 'A', 'B']\n",
    "counts = np.random.randint(20, 100, size=len(notes))\n",
    "\n",
    "# Plot\n",
    "plt.bar(notes, counts, color='purple')\n",
    "plt.title('Beethoven AI: Note Frequency Distribution (Demo)')\n",
    "plt.xlabel('Note')\n",
    "plt.ylabel('Count')\n",
    "plt.show()"
   ]
  }
 ],
 "metadata": {},
 "nbformat": 4,
 "nbformat_minor": 5
}
