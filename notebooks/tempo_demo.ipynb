{
 "cells": [
  {
   "cell_type": "markdown",
   "id": "8ffa1cfd",
   "metadata": {},
   "source": [
    "# Tempo AI: Demo Notebook\n",
    "This notebook demonstrates a simple tempo curve visualization as part of the **Beethoven AI: Final Symphony** project."
   ]
  },
  {
   "cell_type": "code",
   "execution_count": null,
   "id": "ba2ddee3",
   "metadata": {},
   "outputs": [],
   "source": [
    "\n",
    "import numpy as np\n",
    "import matplotlib.pyplot as plt\n",
    "\n",
    "# Mock dataset: tempo changes across 50 measures\n",
    "measures = np.arange(1, 51)\n",
    "tempo = 60 + 20*np.sin(0.2*measures) + np.random.randint(-5, 5, size=50)\n",
    "\n",
    "# Plot\n",
    "plt.plot(measures, tempo, color=\"blue\", marker=\"o\")\n",
    "plt.title(\"Beethoven AI: Tempo Curve (Demo)\")\n",
    "plt.xlabel(\"Measure\")\n",
    "plt.ylabel(\"Tempo (BPM)\")\n",
    "plt.show()\n"
   ]
  }
 ],
 "metadata": {},
 "nbformat": 4,
 "nbformat_minor": 5
}
