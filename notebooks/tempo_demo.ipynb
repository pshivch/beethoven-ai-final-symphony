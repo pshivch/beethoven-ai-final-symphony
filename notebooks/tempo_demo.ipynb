{
 "cells": [
  {
   "cell_type": "markdown",
   "id": "ff6b62c0",
   "metadata": {},
   "source": [
    "# Beethoven AI — Tempo Curve Demo\n",
    "\n",
    "This notebook builds a **smooth tempo profile** (BPM over measures) to illustrate phrasing:  \n",
    "accelerando (speeding up) and ritardando (slowing down).\n",
    "\n",
    "**You'll see:**\n",
    "1. Synthetic tempo creation across 96 measures\n",
    "2. A tidy table preview\n",
    "3. A clean tempo chart (matplotlib)\n",
    "4. (Optional) Save the chart to `charts/tempo_curve.png`\n"
   ]
  },
  {
   "cell_type": "code",
   "execution_count": null,
   "id": "3343e7d7",
   "metadata": {},
   "outputs": [],
   "source": [
    "# --- Setup\n",
    "import os\n",
    "import numpy as np\n",
    "import pandas as pd\n",
    "import matplotlib.pyplot as plt\n",
    "\n",
    "rng = np.random.default_rng(42)  # for repeatability\n"
   ]
  },
  {
   "cell_type": "code",
   "execution_count": null,
   "id": "4c1105b0",
   "metadata": {},
   "outputs": [],
   "source": [
    "# --- Build a smooth expressive tempo profile\n",
    "measures = np.arange(1, 97)  # 96 measures\n",
    "first_half = np.linspace(78, 132, len(measures)//2)   # accelerando\n",
    "second_half = np.linspace(132, 90, len(measures) - len(first_half))  # ritardando\n",
    "bpm = np.concatenate([first_half, second_half])\n",
    "\n",
    "# Add gentle nuance\n",
    "bpm = bpm + rng.normal(0, 1.4, size=bpm.shape)\n",
    "\n",
    "tempo = pd.DataFrame({\"measure\": measures, \"bpm\": bpm.round(2)})\n",
    "tempo.head(10)\n"
   ]
  },
  {
   "cell_type": "code",
   "execution_count": null,
   "id": "e93417f2",
   "metadata": {},
   "outputs": [],
   "source": [
    "# --- Plot (no explicit colors set)\n",
    "plt.figure(figsize=(8,4))\n",
    "plt.plot(tempo[\"measure\"], tempo[\"bpm\"])\n",
    "plt.title(\"Beethoven AI: Tempo Curve (Demo)\")\n",
    "plt.xlabel(\"Measure\")\n",
    "plt.ylabel(\"BPM\")\n",
    "plt.tight_layout()\n",
    "plt.show()\n"
   ]
  },
  {
   "cell_type": "code",
   "execution_count": null,
   "id": "2047ffbe",
   "metadata": {},
   "outputs": [],
   "source": [
    "# --- (Optional) Save static image\n",
    "os.makedirs(\"charts\", exist_ok=True)\n",
    "plt.figure(figsize=(8,4))\n",
    "plt.plot(tempo[\"measure\"], tempo[\"bpm\"])\n",
    "plt.title(\"Beethoven AI: Tempo Curve (Demo)\")\n",
    "plt.xlabel(\"Measure\")\n",
    "plt.ylabel(\"BPM\")\n",
    "plt.tight_layout()\n",
    "out_path = \"charts/tempo_curve.png\"\n",
    "plt.savefig(out_path, dpi=160)\n",
    "out_path\n"
   ]
  },
  {
   "cell_type": "markdown",
   "id": "0a98ef7c",
   "metadata": {},
   "source": [
    "### Next steps\n",
    "- Derive the curve from real performance data and compare across conductors.\n",
    "- Add rubato detection and **tempo stability** metrics by movement.\n",
    "- Export slices for use in audio rendering or rehearsal planning.\n"
   ]
  }
 ],
 "metadata": {},
 "nbformat": 4,
 "nbformat_minor": 5
}
