{
 "cells": [
  {
   "cell_type": "markdown",
   "id": "87c92b85",
   "metadata": {},
   "source": [
    "# Beethoven AI — Note Frequency Demo\n",
    "\n",
    "This notebook shows a **clean, reproducible demo** of note-frequency analysis for the Beethoven AI project.\n",
    "\n",
    "**You'll see:**\n",
    "1. A tiny, mock dataset of notes (C–B)\n",
    "2. A tidy table of the data\n",
    "3. A bar chart rendered with matplotlib\n",
    "4. (Optional) Saving the chart to `charts/beethoven_note_frequency.png`\n",
    "\n",
    "> Tip: This demo runs in any vanilla Python environment with `matplotlib` and `pandas` installed.\n"
   ]
  },
  {
   "cell_type": "code",
   "execution_count": null,
   "id": "071a9ae1",
   "metadata": {},
   "outputs": [],
   "source": [
    "# --- Setup\n",
    "import os\n",
    "import numpy as np\n",
    "import pandas as pd\n",
    "import matplotlib.pyplot as plt\n",
    "\n",
    "# Make outputs deterministic for repeatable screenshots\n",
    "rng = np.random.default_rng(7)  \n"
   ]
  },
  {
   "cell_type": "code",
   "execution_count": null,
   "id": "aae366b9",
   "metadata": {},
   "outputs": [],
   "source": [
    "# --- Create a tiny mock dataset\n",
    "notes = [\"C\", \"D\", \"E\", \"F\", \"G\", \"A\", \"B\"]\n",
    "counts = rng.integers(24, 96, size=len(notes))\n",
    "\n",
    "df = pd.DataFrame({\"note\": notes, \"count\": counts})\n",
    "df\n"
   ]
  },
  {
   "cell_type": "code",
   "execution_count": null,
   "id": "fcf1e613",
   "metadata": {},
   "outputs": [],
   "source": [
    "# --- Plot the distribution (no explicit colors set)\n",
    "plt.figure(figsize=(7,4))\n",
    "plt.bar(df[\"note\"], df[\"count\"])\n",
    "plt.title(\"Beethoven AI: Note Frequency Distribution (Demo)\")\n",
    "plt.xlabel(\"Note\")\n",
    "plt.ylabel(\"Count\")\n",
    "plt.tight_layout()\n",
    "plt.show()\n"
   ]
  },
  {
   "cell_type": "code",
   "execution_count": null,
   "id": "da954b5f",
   "metadata": {},
   "outputs": [],
   "source": [
    "# --- (Optional) Save a static image for README or slides\n",
    "os.makedirs(\"charts\", exist_ok=True)\n",
    "plt.figure(figsize=(7,4))\n",
    "plt.bar(df[\"note\"], df[\"count\"])\n",
    "plt.title(\"Beethoven AI: Note Frequency Distribution (Demo)\")\n",
    "plt.xlabel(\"Note\")\n",
    "plt.ylabel(\"Count\")\n",
    "plt.tight_layout()\n",
    "out_path = \"charts/beethoven_note_frequency.png\"\n",
    "plt.savefig(out_path, dpi=160)\n",
    "out_path\n"
   ]
  },
  {
   "cell_type": "markdown",
   "id": "fa514733",
   "metadata": {},
   "source": [
    "### Next steps\n",
    "- Replace the mock `counts` with real counts from parsed MIDI/MusicXML.\n",
    "- Slice the distribution by **movement**, **key**, or **register** for deeper analysis.\n",
    "- Add authenticity checks that compare distributions against Beethoven benchmarks.\n"
   ]
  }
 ],
 "metadata": {},
 "nbformat": 4,
 "nbformat_minor": 5
}
