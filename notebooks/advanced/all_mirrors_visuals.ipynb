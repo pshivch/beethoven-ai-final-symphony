{
 "cells": [
  {
   "cell_type": "markdown",
   "id": "cc43937e",
   "metadata": {},
   "source": [
    "\n",
    "# 🎼 Beethoven AI: All Mirrors Visuals\n",
    "\n",
    "This notebook generates **36 polished visuals** (3 per org) for all 12 mirrors in the Beethoven AI: Final Symphony portfolio.\n",
    "\n",
    "For each mirror:\n",
    "- 📊 Bar Chart (counts/frequencies)\n",
    "- 📈 Line Chart (human vs AI dynamics)\n",
    "- 🔥 Heatmap (relationships/influence)\n",
    "\n",
    "👉 Run all cells to produce a full gallery of outputs.\n"
   ]
  },
  {
   "cell_type": "code",
   "execution_count": null,
   "id": "6eb666d1",
   "metadata": {},
   "outputs": [],
   "source": [
    "\n",
    "import matplotlib.pyplot as plt\n",
    "import numpy as np\n",
    "import seaborn as sns\n",
    "\n",
    "def run_visuals(org_name=\"Generic\"):\n",
    "    np.random.seed(42)\n",
    "\n",
    "    captions = {\n",
    "        \"Beethoven AI Flagship\": {\n",
    "            \"bar\": \"Motif distribution across Beethoven’s sketches\",\n",
    "            \"line\": \"Stylistic authenticity: AI vs Beethoven-trained ML model\",\n",
    "            \"heat\": \"Harmonic overlap between orchestral sections\"\n",
    "        },\n",
    "        \"Carnegie Hall\": {\n",
    "            \"bar\": \"Harmonic progression counts across symphonic movements\",\n",
    "            \"line\": \"Phrase length: human vs ML-authenticity model\",\n",
    "            \"heat\": \"Chord-to-chord similarity matrix\"\n",
    "        },\n",
    "        \"Disney\": {\n",
    "            \"bar\": \"Character presence across collaborative arcs\",\n",
    "            \"line\": \"Tempo negotiation: AI vs Human suggestion\",\n",
    "            \"heat\": \"Agent influence in orchestration planning\"\n",
    "        },\n",
    "        \"Warner Bros.\": {\n",
    "            \"bar\": \"Scene scheduling tasks by category\",\n",
    "            \"line\": \"Automation throughput: baseline vs RPA pipeline\",\n",
    "            \"heat\": \"Task allocation overlap across orchestration agents\"\n",
    "        },\n",
    "        \"Sony\": {\n",
    "            \"bar\": \"Dynamic shifts extracted from video frames\",\n",
    "            \"line\": \"Gesture intensity: performer vs AI vision model\",\n",
    "            \"heat\": \"Gesture–dynamics correlation across performers\"\n",
    "        },\n",
    "        \"NBCUniversal\": {\n",
    "            \"bar\": \"Broadcast slot allocations by genre\",\n",
    "            \"line\": \"Processing latency: manual vs automated workflows\",\n",
    "            \"heat\": \"Resource usage across orchestration tasks\"\n",
    "        },\n",
    "        \"Paramount\": {\n",
    "            \"bar\": \"Scene composition frequency (angles, lighting, cuts)\",\n",
    "            \"line\": \"Visual emotion trajectory: human editor vs AI CV pipeline\",\n",
    "            \"heat\": \"Visual motif similarity across scenes\"\n",
    "        },\n",
    "        \"Netflix\": {\n",
    "            \"bar\": \"Episode arc presence across AI–human collaboration\",\n",
    "            \"line\": \"Viewer pacing preference vs AI recommendation\",\n",
    "            \"heat\": \"Negotiation influence between narrative agents\"\n",
    "        },\n",
    "        \"Apple\": {\n",
    "            \"bar\": \"Chord usage across symphonic fragments\",\n",
    "            \"line\": \"Melodic smoothness: ML-authentic vs human arrangement\",\n",
    "            \"heat\": \"Tonality similarity matrix across generated pieces\"\n",
    "        },\n",
    "        \"Boeing\": {\n",
    "            \"bar\": \"Route segment utilization (flights simulated)\",\n",
    "            \"line\": \"Fuel efficiency curve: baseline vs optimized algorithm\",\n",
    "            \"heat\": \"Fleet scheduling balance across constraints\"\n",
    "        },\n",
    "        \"Northrop Grumman\": {\n",
    "            \"bar\": \"Sensor detections across system components\",\n",
    "            \"line\": \"Signal strength variation: human vs AI recognition\",\n",
    "            \"heat\": \"Sensor fusion reliability map\"\n",
    "        },\n",
    "        \"NASA\": {\n",
    "            \"bar\": \"Orbital maneuver counts across mission phases\",\n",
    "            \"line\": \"Trajectory accuracy: baseline vs optimized algorithm\",\n",
    "            \"heat\": \"Interplanetary transfer influence across agents\"\n",
    "        }\n",
    "    }\n",
    "\n",
    "    caps = captions.get(org_name, {\n",
    "        \"bar\": f\"{org_name}: Bar Chart Demo\",\n",
    "        \"line\": f\"{org_name}: Line Chart Demo\",\n",
    "        \"heat\": f\"{org_name}: Heatmap Demo\"\n",
    "    })\n",
    "\n",
    "    # --- Bar chart ---\n",
    "    categories = [\"A\", \"B\", \"C\", \"D\"]\n",
    "    values = np.random.randint(20, 80, size=len(categories))\n",
    "    plt.figure(figsize=(6,4))\n",
    "    plt.bar(categories, values, color=\"orange\")\n",
    "    plt.title(caps[\"bar\"])\n",
    "    plt.show()\n",
    "\n",
    "    # --- Line chart ---\n",
    "    t = np.linspace(0, 180, 50)\n",
    "    human = 90 + 10*np.sin(t/15) + np.random.randn(len(t))\n",
    "    ai = 92 + 8*np.cos(t/20) + np.random.randn(len(t))\n",
    "    plt.figure(figsize=(6,4))\n",
    "    plt.plot(t, human, label=\"Human\")\n",
    "    plt.plot(t, ai, label=\"AI\")\n",
    "    plt.title(caps[\"line\"])\n",
    "    plt.xlabel(\"Time (s)\")\n",
    "    plt.ylabel(\"Value\")\n",
    "    plt.legend()\n",
    "    plt.show()\n",
    "\n",
    "    # --- Heatmap ---\n",
    "    data = np.random.rand(5,5)\n",
    "    plt.figure(figsize=(6,5))\n",
    "    sns.heatmap(data, annot=False, cmap=\"viridis\",\n",
    "                xticklabels=list(\"ABCDE\"), yticklabels=list(\"ABCDE\"))\n",
    "    plt.title(caps[\"heat\"])\n",
    "    plt.show()\n"
   ]
  },
  {
   "cell_type": "markdown",
   "id": "4206b67e",
   "metadata": {},
   "source": [
    "## Beethoven AI Flagship"
   ]
  },
  {
   "cell_type": "code",
   "execution_count": null,
   "id": "7ebc7f48",
   "metadata": {},
   "outputs": [],
   "source": [
    "run_visuals('Beethoven AI Flagship')"
   ]
  },
  {
   "cell_type": "markdown",
   "id": "82e61385",
   "metadata": {},
   "source": [
    "## Carnegie Hall"
   ]
  },
  {
   "cell_type": "code",
   "execution_count": null,
   "id": "a7ddd121",
   "metadata": {},
   "outputs": [],
   "source": [
    "run_visuals('Carnegie Hall')"
   ]
  },
  {
   "cell_type": "markdown",
   "id": "ed9828f4",
   "metadata": {},
   "source": [
    "## Disney"
   ]
  },
  {
   "cell_type": "code",
   "execution_count": null,
   "id": "713e9b21",
   "metadata": {},
   "outputs": [],
   "source": [
    "run_visuals('Disney')"
   ]
  },
  {
   "cell_type": "markdown",
   "id": "f076d220",
   "metadata": {},
   "source": [
    "## Warner Bros."
   ]
  },
  {
   "cell_type": "code",
   "execution_count": null,
   "id": "c4c53058",
   "metadata": {},
   "outputs": [],
   "source": [
    "run_visuals('Warner Bros.')"
   ]
  },
  {
   "cell_type": "markdown",
   "id": "59210be5",
   "metadata": {},
   "source": [
    "## Sony"
   ]
  },
  {
   "cell_type": "code",
   "execution_count": null,
   "id": "05a060f9",
   "metadata": {},
   "outputs": [],
   "source": [
    "run_visuals('Sony')"
   ]
  },
  {
   "cell_type": "markdown",
   "id": "3bc36e97",
   "metadata": {},
   "source": [
    "## NBCUniversal"
   ]
  },
  {
   "cell_type": "code",
   "execution_count": null,
   "id": "702a55a3",
   "metadata": {},
   "outputs": [],
   "source": [
    "run_visuals('NBCUniversal')"
   ]
  },
  {
   "cell_type": "markdown",
   "id": "38c6eb64",
   "metadata": {},
   "source": [
    "## Paramount"
   ]
  },
  {
   "cell_type": "code",
   "execution_count": null,
   "id": "c13a1fa9",
   "metadata": {},
   "outputs": [],
   "source": [
    "run_visuals('Paramount')"
   ]
  },
  {
   "cell_type": "markdown",
   "id": "1ad51182",
   "metadata": {},
   "source": [
    "## Netflix"
   ]
  },
  {
   "cell_type": "code",
   "execution_count": null,
   "id": "c3c9f613",
   "metadata": {},
   "outputs": [],
   "source": [
    "run_visuals('Netflix')"
   ]
  },
  {
   "cell_type": "markdown",
   "id": "cc6c1378",
   "metadata": {},
   "source": [
    "## Apple"
   ]
  },
  {
   "cell_type": "code",
   "execution_count": null,
   "id": "0e262a36",
   "metadata": {},
   "outputs": [],
   "source": [
    "run_visuals('Apple')"
   ]
  },
  {
   "cell_type": "markdown",
   "id": "ef2bab07",
   "metadata": {},
   "source": [
    "## Boeing"
   ]
  },
  {
   "cell_type": "code",
   "execution_count": null,
   "id": "7f4bb69d",
   "metadata": {},
   "outputs": [],
   "source": [
    "run_visuals('Boeing')"
   ]
  },
  {
   "cell_type": "markdown",
   "id": "d4c17400",
   "metadata": {},
   "source": [
    "## Northrop Grumman"
   ]
  },
  {
   "cell_type": "code",
   "execution_count": null,
   "id": "990a35f1",
   "metadata": {},
   "outputs": [],
   "source": [
    "run_visuals('Northrop Grumman')"
   ]
  },
  {
   "cell_type": "markdown",
   "id": "17f2b394",
   "metadata": {},
   "source": [
    "## NASA"
   ]
  },
  {
   "cell_type": "code",
   "execution_count": null,
   "id": "d265c72b",
   "metadata": {},
   "outputs": [],
   "source": [
    "run_visuals('NASA')"
   ]
  }
 ],
 "metadata": {},
 "nbformat": 4,
 "nbformat_minor": 5
}
